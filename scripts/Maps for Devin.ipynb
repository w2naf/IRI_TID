{
 "cells": [
  {
   "cell_type": "code",
   "execution_count": 1,
   "id": "5954df2e-d193-46a3-886d-1b3eb9cd6756",
   "metadata": {},
   "outputs": [
    {
     "ename": "ModuleNotFoundError",
     "evalue": "No module named 'cartopy'",
     "output_type": "error",
     "traceback": [
      "\u001b[0;31m---------------------------------------------------------------------------\u001b[0m",
      "\u001b[0;31mModuleNotFoundError\u001b[0m                       Traceback (most recent call last)",
      "Cell \u001b[0;32mIn[1], line 11\u001b[0m\n\u001b[1;32m      8\u001b[0m \u001b[38;5;28;01mfrom\u001b[39;00m \u001b[38;5;21;01mmatplotlib\u001b[39;00m\u001b[38;5;21;01m.\u001b[39;00m\u001b[38;5;21;01mpatches\u001b[39;00m \u001b[38;5;28;01mimport\u001b[39;00m Polygon\n\u001b[1;32m      9\u001b[0m \u001b[38;5;28;01mfrom\u001b[39;00m \u001b[38;5;21;01mmatplotlib\u001b[39;00m \u001b[38;5;28;01mimport\u001b[39;00m pyplot \u001b[38;5;28;01mas\u001b[39;00m plt\n\u001b[0;32m---> 11\u001b[0m \u001b[38;5;28;01mimport\u001b[39;00m \u001b[38;5;21;01mcartopy\u001b[39;00m\n\u001b[1;32m     12\u001b[0m \u001b[38;5;28;01mimport\u001b[39;00m \u001b[38;5;21;01mcartopy\u001b[39;00m\u001b[38;5;21;01m.\u001b[39;00m\u001b[38;5;21;01mcrs\u001b[39;00m \u001b[38;5;28;01mas\u001b[39;00m \u001b[38;5;21;01mccrs\u001b[39;00m\n\u001b[1;32m     13\u001b[0m \u001b[38;5;28;01mfrom\u001b[39;00m \u001b[38;5;21;01mcartopy\u001b[39;00m\u001b[38;5;21;01m.\u001b[39;00m\u001b[38;5;21;01mmpl\u001b[39;00m\u001b[38;5;21;01m.\u001b[39;00m\u001b[38;5;21;01mticker\u001b[39;00m \u001b[38;5;28;01mimport\u001b[39;00m LongitudeFormatter, LatitudeFormatter\n",
      "\u001b[0;31mModuleNotFoundError\u001b[0m: No module named 'cartopy'"
     ]
    }
   ],
   "source": [
    "import os\n",
    "import datetime\n",
    "\n",
    "import numpy as np\n",
    "\n",
    "import matplotlib as mpl\n",
    "from matplotlib.collections import PolyCollection\n",
    "from matplotlib.patches import Polygon\n",
    "from matplotlib import pyplot as plt\n",
    "\n",
    "import cartopy\n",
    "import cartopy.crs as ccrs\n",
    "from cartopy.mpl.ticker import LongitudeFormatter, LatitudeFormatter\n",
    "\n",
    "%matplotlib inline"
   ]
  },
  {
   "cell_type": "code",
   "execution_count": null,
   "id": "ad36b4f4-fadf-4720-b518-36d2d47a85a9",
   "metadata": {},
   "outputs": [],
   "source": [
    "plt.rcParams['font.size']      = 18\n",
    "plt.rcParams['font.weight']    = 'bold'\n",
    "plt.rcParams['axes.grid']      = True\n",
    "plt.rcParams['axes.xmargin']   = 0\n",
    "plt.rcParams['grid.linestyle'] = ':'"
   ]
  },
  {
   "cell_type": "code",
   "execution_count": null,
   "id": "3725bcdc-ae21-465d-8c60-eb7f26f8a481",
   "metadata": {},
   "outputs": [],
   "source": [
    "fig     = plt.figure(figsize=figsize)\n",
    "            ax      = fig.add_subplot(111,projection=ccrs.PlateCarree())\n",
    "\n",
    "    #        ax.coastlines(zorder=10,color='k')\n",
    "    #        ax.add_feature(cartopy.feature.LAND)\n",
    "    #        ax.add_feature(cartopy.feature.OCEAN)\n",
    "    #        ax.add_feature(cartopy.feature.LAKES, alpha=0.5)\n",
    "    #        ax.add_feature(cartopy.feature.RIVERS)\n",
    "            ax.add_feature(cartopy.feature.COASTLINE)\n",
    "            ax.add_feature(cartopy.feature.BORDERS, linestyle=':')\n",
    "            ax.set_title('')\n",
    "            ax.gridlines(draw_labels=True)\n",
    "\n",
    "            LONS, LATS  = np.meshgrid(lons,lats)\n",
    "            data        = this_edens[:,:,alt_inx]\n",
    "            pcoll       = ax.pcolormesh(LONS,LATS,data,cmap=cmap,norm=norm)\n",
    "\n",
    "            if plot_profile_paths == 'all':\n",
    "                for prof_key,profile in self.profiles.items():\n",
    "                    glons       = profile['glons']\n",
    "                    tf          = glons > 180\n",
    "                    glons[tf]   = glons[tf]-360.\n",
    "                    glats       = profile['glats']\n",
    "                    ax.plot(glons,glats,marker='o',color='k',lw=4,zorder=100)\n",
    "\n",
    "                    tx_call     = profile.attrs['tx_call']\n",
    "                    tx_lat      = profile.attrs['tx_lat']\n",
    "                    tx_lon      = profile.attrs['tx_lon']\n",
    "                    if tx_lon > 180:\n",
    "                        tx_lon = tx_lon - 360.\n",
    "\n",
    "                    rx_call     = profile.attrs['rx_call']\n",
    "                    rx_lat      = profile.attrs['rx_lat']\n",
    "                    rx_lon      = profile.attrs['rx_lon']\n",
    "                    if rx_lon > 180:\n",
    "                        rx_lon = rx_lon - 360.\n",
    "\n",
    "                    ax.scatter(tx_lon,tx_lat,marker='*',s=450,zorder=110,label=tx_call,ec='k',fc='red')\n",
    "                    ax.scatter(rx_lon,rx_lat,marker='*',s=450,zorder=110,label=rx_call,ec='k',fc='orange')\n",
    "                    fontdict = {'size':'x-large','weight':'bold'}\n",
    "                    offset = 1.1\n",
    "                    ax.text(tx_lon,tx_lat+offset,tx_call,fontdict=fontdict,ha='center')\n",
    "                    ax.text(rx_lon,rx_lat+offset,rx_call,fontdict=fontdict,ha='center')\n",
    "\n",
    "            # Plot Wave Source Locations\n",
    "            if hasattr(self,'wave_list'):\n",
    "                for wave in self.wave_list:\n",
    "                    wlat    = wave['src_lat']\n",
    "                    wlon    = wave['src_lon']\n",
    "                    ax.scatter(wlon,wlat,marker='^',s=100,zorder=110,ec='k',fc='red')\n",
    "\n",
    "            ax.set_xlim(xlim)\n",
    "            ax.set_ylim(ylim)"
   ]
  }
 ],
 "metadata": {
  "kernelspec": {
   "display_name": "Python 3 (ipykernel)",
   "language": "python",
   "name": "python3"
  },
  "language_info": {
   "codemirror_mode": {
    "name": "ipython",
    "version": 3
   },
   "file_extension": ".py",
   "mimetype": "text/x-python",
   "name": "python",
   "nbconvert_exporter": "python",
   "pygments_lexer": "ipython3",
   "version": "3.11.5"
  }
 },
 "nbformat": 4,
 "nbformat_minor": 5
}
